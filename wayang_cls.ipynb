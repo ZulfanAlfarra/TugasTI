{
  "nbformat": 4,
  "nbformat_minor": 0,
  "metadata": {
    "colab": {
      "provenance": [],
      "gpuType": "T4",
      "authorship_tag": "ABX9TyNtuiSH8lsMEJgrIJa5aw1f",
      "include_colab_link": true
    },
    "kernelspec": {
      "name": "python3",
      "display_name": "Python 3"
    },
    "language_info": {
      "name": "python"
    },
    "accelerator": "GPU"
  },
  "cells": [
    {
      "cell_type": "markdown",
      "metadata": {
        "id": "view-in-github",
        "colab_type": "text"
      },
      "source": [
        "<a href=\"https://colab.research.google.com/github/ZulfanAlfarra/TugasTI/blob/main/wayang_cls.ipynb\" target=\"_parent\"><img src=\"https://colab.research.google.com/assets/colab-badge.svg\" alt=\"Open In Colab\"/></a>"
      ]
    },
    {
      "cell_type": "code",
      "execution_count": 3,
      "metadata": {
        "colab": {
          "base_uri": "https://localhost:8080/"
        },
        "id": "Wo4bthf58yn7",
        "outputId": "7b7e2aa6-0882-46ed-f8dd-4ebfc40c5f46"
      },
      "outputs": [
        {
          "output_type": "stream",
          "name": "stdout",
          "text": [
            "Requirement already satisfied: kaggle in /usr/local/lib/python3.10/dist-packages (1.5.16)\n",
            "Requirement already satisfied: six>=1.10 in /usr/local/lib/python3.10/dist-packages (from kaggle) (1.16.0)\n",
            "Requirement already satisfied: certifi in /usr/local/lib/python3.10/dist-packages (from kaggle) (2023.11.17)\n",
            "Requirement already satisfied: python-dateutil in /usr/local/lib/python3.10/dist-packages (from kaggle) (2.8.2)\n",
            "Requirement already satisfied: requests in /usr/local/lib/python3.10/dist-packages (from kaggle) (2.31.0)\n",
            "Requirement already satisfied: tqdm in /usr/local/lib/python3.10/dist-packages (from kaggle) (4.66.1)\n",
            "Requirement already satisfied: python-slugify in /usr/local/lib/python3.10/dist-packages (from kaggle) (8.0.1)\n",
            "Requirement already satisfied: urllib3 in /usr/local/lib/python3.10/dist-packages (from kaggle) (2.0.7)\n",
            "Requirement already satisfied: bleach in /usr/local/lib/python3.10/dist-packages (from kaggle) (6.1.0)\n",
            "Requirement already satisfied: webencodings in /usr/local/lib/python3.10/dist-packages (from bleach->kaggle) (0.5.1)\n",
            "Requirement already satisfied: text-unidecode>=1.3 in /usr/local/lib/python3.10/dist-packages (from python-slugify->kaggle) (1.3)\n",
            "Requirement already satisfied: charset-normalizer<4,>=2 in /usr/local/lib/python3.10/dist-packages (from requests->kaggle) (3.3.2)\n",
            "Requirement already satisfied: idna<4,>=2.5 in /usr/local/lib/python3.10/dist-packages (from requests->kaggle) (3.6)\n"
          ]
        }
      ],
      "source": [
        "! pip install kaggle"
      ]
    },
    {
      "cell_type": "code",
      "source": [
        "from google.colab import drive\n",
        "drive.mount('/content/drive')"
      ],
      "metadata": {
        "colab": {
          "base_uri": "https://localhost:8080/"
        },
        "id": "BbQB8K-Z8z-w",
        "outputId": "40d06e60-483f-4e3c-f3f8-b4b801686095"
      },
      "execution_count": 4,
      "outputs": [
        {
          "output_type": "stream",
          "name": "stdout",
          "text": [
            "Drive already mounted at /content/drive; to attempt to forcibly remount, call drive.mount(\"/content/drive\", force_remount=True).\n"
          ]
        }
      ]
    },
    {
      "cell_type": "code",
      "source": [
        "! mkdir ~/.kaggle"
      ],
      "metadata": {
        "id": "i6QwBAm1814m"
      },
      "execution_count": 5,
      "outputs": []
    },
    {
      "cell_type": "code",
      "source": [
        "! cp kaggle.json ~/.kaggle/"
      ],
      "metadata": {
        "id": "g1O4MyiL878n"
      },
      "execution_count": 6,
      "outputs": []
    },
    {
      "cell_type": "code",
      "source": [
        "! chmod 600 ~/.kaggle/kaggle.json\n"
      ],
      "metadata": {
        "id": "X9wv7KY989oV"
      },
      "execution_count": 7,
      "outputs": []
    },
    {
      "cell_type": "code",
      "source": [
        "!kaggle datasets download bayuokta/wayang-bagong-cepot-gareng-petruk-semar"
      ],
      "metadata": {
        "colab": {
          "base_uri": "https://localhost:8080/"
        },
        "id": "6Y-CdhDZ9ErA",
        "outputId": "8be8ea9f-5af9-4f43-f7b3-a62697e5d769"
      },
      "execution_count": 8,
      "outputs": [
        {
          "output_type": "stream",
          "name": "stdout",
          "text": [
            "Downloading wayang-bagong-cepot-gareng-petruk-semar.zip to /content\n",
            " 96% 43.0M/44.9M [00:03<00:00, 20.4MB/s]\n",
            "100% 44.9M/44.9M [00:03<00:00, 13.9MB/s]\n"
          ]
        }
      ]
    },
    {
      "cell_type": "code",
      "source": [
        "! unzip -qq wayang-bagong-cepot-gareng-petruk-semar.zip"
      ],
      "metadata": {
        "id": "Yml-5hOfnu97"
      },
      "execution_count": 9,
      "outputs": []
    },
    {
      "cell_type": "code",
      "source": [
        "import matplotlib.pyplot as plt\n",
        "import tensorflow as tf\n",
        "from keras.preprocessing.image import ImageDataGenerator\n",
        "from keras.applications.inception_v3 import InceptionV3\n",
        "import numpy as np\n",
        "import os"
      ],
      "metadata": {
        "id": "GcrQMbde9SbQ"
      },
      "execution_count": 75,
      "outputs": []
    },
    {
      "cell_type": "code",
      "source": [
        "train_dir = '/content/images/images/train'\n",
        "val_dir = '/content/images/images/val'\n",
        "test_dir = '/content/images/test'"
      ],
      "metadata": {
        "id": "I8tOWNfqZido"
      },
      "execution_count": 76,
      "outputs": []
    },
    {
      "cell_type": "code",
      "source": [
        "train_datagen = ImageDataGenerator(rescale=1./255,\n",
        "                                   rotation_range=40,\n",
        "                                   width_shift_range=0.1,\n",
        "                                   height_shift_range=0.1,\n",
        "                                   shear_range=0.2,\n",
        "                                   zoom_range=0.2,\n",
        "                                   horizontal_flip=True,\n",
        "                                   vertical_flip=True)\n",
        "\n",
        "valid_datagen = ImageDataGenerator(rescale=1./255)\n",
        "\n",
        "train_generator = train_datagen.flow_from_directory(train_dir,\n",
        "                                                    target_size=(150,150),\n",
        "                                                    batch_size= 32,\n",
        "                                                    class_mode = 'categorical')\n",
        "\n",
        "valid_generator = valid_datagen.flow_from_directory(val_dir,\n",
        "                                                    target_size=(150,150),\n",
        "                                                    batch_size=32,\n",
        "                                                    class_mode='categorical')\n",
        "\n"
      ],
      "metadata": {
        "id": "aDG-cK0P9rHY",
        "colab": {
          "base_uri": "https://localhost:8080/"
        },
        "outputId": "bad7a7b1-17db-4ea8-b86d-d49e939ea0d1"
      },
      "execution_count": 121,
      "outputs": [
        {
          "output_type": "stream",
          "name": "stdout",
          "text": [
            "Found 1350 images belonging to 5 classes.\n",
            "Found 150 images belonging to 5 classes.\n"
          ]
        }
      ]
    },
    {
      "cell_type": "code",
      "source": [
        "train_generator.class_indices"
      ],
      "metadata": {
        "colab": {
          "base_uri": "https://localhost:8080/"
        },
        "id": "MgiJgmsyttlY",
        "outputId": "b7e619d5-1926-42db-f9f8-2e6024401885"
      },
      "execution_count": 122,
      "outputs": [
        {
          "output_type": "execute_result",
          "data": {
            "text/plain": [
              "{'bagong': 0, 'cepot': 1, 'gareng': 2, 'petruk': 3, 'semar': 4}"
            ]
          },
          "metadata": {},
          "execution_count": 122
        }
      ]
    },
    {
      "cell_type": "code",
      "source": [
        "# !wget --no-check-certificate \\\n",
        "#     https://storage.googleapis.com/mledu-datasets/inception_v3_weights_tf_dim_ordering_tf_kernels_notop.h5 \\\n",
        "#     -O /tmp/inception_v3_weights_tf_dim_ordering_tf_kernels_notop.h5"
      ],
      "metadata": {
        "id": "k-9zmuqBDsVb"
      },
      "execution_count": 123,
      "outputs": []
    },
    {
      "cell_type": "code",
      "source": [
        "# local_weights_file = '/tmp/inception_v3_weights_tf_dim_ordering_tf_kernels_notop.h5'"
      ],
      "metadata": {
        "id": "H43gnghVDtIJ"
      },
      "execution_count": 124,
      "outputs": []
    },
    {
      "cell_type": "code",
      "source": [
        "base_model = InceptionV3(weights='imagenet', include_top=False, input_shape=(150,150,3))\n",
        "for layer in base_model.layers:\n",
        "  layer.trainable=False"
      ],
      "metadata": {
        "id": "ob3ouyW_D0gM"
      },
      "execution_count": 125,
      "outputs": []
    },
    {
      "cell_type": "code",
      "source": [
        "# inception.summary()"
      ],
      "metadata": {
        "id": "eaSsmf_fD_fV"
      },
      "execution_count": 126,
      "outputs": []
    },
    {
      "cell_type": "code",
      "source": [
        "# choose 'mixed7' as the last layer\n",
        "last_layer = base_model.get_layer('mixed7')\n",
        "last_output = last_layer.output"
      ],
      "metadata": {
        "id": "gyVPMIIYEJYm"
      },
      "execution_count": 127,
      "outputs": []
    },
    {
      "cell_type": "code",
      "source": [
        "from keras.models import Model\n",
        "x = tf.keras.layers.Conv2D(64, (3, 3), activation='relu')(last_output)\n",
        "x = tf.keras.layers.MaxPooling2D(2,2)(x)\n",
        "x = tf.keras.layers.Conv2D(64, (2, 2), activation='relu')(x)\n",
        "# flatten the output layer to 1 dimension\n",
        "x = tf.keras.layers.Flatten()(x)\n",
        "# add layer\n",
        "x = tf.keras.layers.Dense(1024, activation='relu')(x)\n",
        "# add a dropout rate of 0.2\n",
        "x = tf.keras.layers.Dropout(0.2)(x)\n",
        "# add final layer output\n",
        "x = tf.keras.layers.Dense(5, activation='softmax')(x)\n",
        "\n",
        "model = Model(base_model.input, x)\n",
        "\n",
        "model.summary()"
      ],
      "metadata": {
        "id": "e0b5ReFwEKG8",
        "colab": {
          "base_uri": "https://localhost:8080/"
        },
        "outputId": "8656fbfc-e0dd-4f89-ca47-9029a5a60c95"
      },
      "execution_count": 134,
      "outputs": [
        {
          "output_type": "stream",
          "name": "stdout",
          "text": [
            "Model: \"model_8\"\n",
            "__________________________________________________________________________________________________\n",
            " Layer (type)                Output Shape                 Param #   Connected to                  \n",
            "==================================================================================================\n",
            " input_6 (InputLayer)        [(None, 150, 150, 3)]        0         []                            \n",
            "                                                                                                  \n",
            " conv2d_478 (Conv2D)         (None, 74, 74, 32)           864       ['input_6[0][0]']             \n",
            "                                                                                                  \n",
            " batch_normalization_470 (B  (None, 74, 74, 32)           96        ['conv2d_478[0][0]']          \n",
            " atchNormalization)                                                                               \n",
            "                                                                                                  \n",
            " activation_470 (Activation  (None, 74, 74, 32)           0         ['batch_normalization_470[0][0\n",
            " )                                                                  ]']                           \n",
            "                                                                                                  \n",
            " conv2d_479 (Conv2D)         (None, 72, 72, 32)           9216      ['activation_470[0][0]']      \n",
            "                                                                                                  \n",
            " batch_normalization_471 (B  (None, 72, 72, 32)           96        ['conv2d_479[0][0]']          \n",
            " atchNormalization)                                                                               \n",
            "                                                                                                  \n",
            " activation_471 (Activation  (None, 72, 72, 32)           0         ['batch_normalization_471[0][0\n",
            " )                                                                  ]']                           \n",
            "                                                                                                  \n",
            " conv2d_480 (Conv2D)         (None, 72, 72, 64)           18432     ['activation_471[0][0]']      \n",
            "                                                                                                  \n",
            " batch_normalization_472 (B  (None, 72, 72, 64)           192       ['conv2d_480[0][0]']          \n",
            " atchNormalization)                                                                               \n",
            "                                                                                                  \n",
            " activation_472 (Activation  (None, 72, 72, 64)           0         ['batch_normalization_472[0][0\n",
            " )                                                                  ]']                           \n",
            "                                                                                                  \n",
            " max_pooling2d_24 (MaxPooli  (None, 35, 35, 64)           0         ['activation_472[0][0]']      \n",
            " ng2D)                                                                                            \n",
            "                                                                                                  \n",
            " conv2d_481 (Conv2D)         (None, 35, 35, 80)           5120      ['max_pooling2d_24[0][0]']    \n",
            "                                                                                                  \n",
            " batch_normalization_473 (B  (None, 35, 35, 80)           240       ['conv2d_481[0][0]']          \n",
            " atchNormalization)                                                                               \n",
            "                                                                                                  \n",
            " activation_473 (Activation  (None, 35, 35, 80)           0         ['batch_normalization_473[0][0\n",
            " )                                                                  ]']                           \n",
            "                                                                                                  \n",
            " conv2d_482 (Conv2D)         (None, 33, 33, 192)          138240    ['activation_473[0][0]']      \n",
            "                                                                                                  \n",
            " batch_normalization_474 (B  (None, 33, 33, 192)          576       ['conv2d_482[0][0]']          \n",
            " atchNormalization)                                                                               \n",
            "                                                                                                  \n",
            " activation_474 (Activation  (None, 33, 33, 192)          0         ['batch_normalization_474[0][0\n",
            " )                                                                  ]']                           \n",
            "                                                                                                  \n",
            " max_pooling2d_25 (MaxPooli  (None, 16, 16, 192)          0         ['activation_474[0][0]']      \n",
            " ng2D)                                                                                            \n",
            "                                                                                                  \n",
            " conv2d_486 (Conv2D)         (None, 16, 16, 64)           12288     ['max_pooling2d_25[0][0]']    \n",
            "                                                                                                  \n",
            " batch_normalization_478 (B  (None, 16, 16, 64)           192       ['conv2d_486[0][0]']          \n",
            " atchNormalization)                                                                               \n",
            "                                                                                                  \n",
            " activation_478 (Activation  (None, 16, 16, 64)           0         ['batch_normalization_478[0][0\n",
            " )                                                                  ]']                           \n",
            "                                                                                                  \n",
            " conv2d_484 (Conv2D)         (None, 16, 16, 48)           9216      ['max_pooling2d_25[0][0]']    \n",
            "                                                                                                  \n",
            " conv2d_487 (Conv2D)         (None, 16, 16, 96)           55296     ['activation_478[0][0]']      \n",
            "                                                                                                  \n",
            " batch_normalization_476 (B  (None, 16, 16, 48)           144       ['conv2d_484[0][0]']          \n",
            " atchNormalization)                                                                               \n",
            "                                                                                                  \n",
            " batch_normalization_479 (B  (None, 16, 16, 96)           288       ['conv2d_487[0][0]']          \n",
            " atchNormalization)                                                                               \n",
            "                                                                                                  \n",
            " activation_476 (Activation  (None, 16, 16, 48)           0         ['batch_normalization_476[0][0\n",
            " )                                                                  ]']                           \n",
            "                                                                                                  \n",
            " activation_479 (Activation  (None, 16, 16, 96)           0         ['batch_normalization_479[0][0\n",
            " )                                                                  ]']                           \n",
            "                                                                                                  \n",
            " average_pooling2d_45 (Aver  (None, 16, 16, 192)          0         ['max_pooling2d_25[0][0]']    \n",
            " agePooling2D)                                                                                    \n",
            "                                                                                                  \n",
            " conv2d_483 (Conv2D)         (None, 16, 16, 64)           12288     ['max_pooling2d_25[0][0]']    \n",
            "                                                                                                  \n",
            " conv2d_485 (Conv2D)         (None, 16, 16, 64)           76800     ['activation_476[0][0]']      \n",
            "                                                                                                  \n",
            " conv2d_488 (Conv2D)         (None, 16, 16, 96)           82944     ['activation_479[0][0]']      \n",
            "                                                                                                  \n",
            " conv2d_489 (Conv2D)         (None, 16, 16, 32)           6144      ['average_pooling2d_45[0][0]']\n",
            "                                                                                                  \n",
            " batch_normalization_475 (B  (None, 16, 16, 64)           192       ['conv2d_483[0][0]']          \n",
            " atchNormalization)                                                                               \n",
            "                                                                                                  \n",
            " batch_normalization_477 (B  (None, 16, 16, 64)           192       ['conv2d_485[0][0]']          \n",
            " atchNormalization)                                                                               \n",
            "                                                                                                  \n",
            " batch_normalization_480 (B  (None, 16, 16, 96)           288       ['conv2d_488[0][0]']          \n",
            " atchNormalization)                                                                               \n",
            "                                                                                                  \n",
            " batch_normalization_481 (B  (None, 16, 16, 32)           96        ['conv2d_489[0][0]']          \n",
            " atchNormalization)                                                                               \n",
            "                                                                                                  \n",
            " activation_475 (Activation  (None, 16, 16, 64)           0         ['batch_normalization_475[0][0\n",
            " )                                                                  ]']                           \n",
            "                                                                                                  \n",
            " activation_477 (Activation  (None, 16, 16, 64)           0         ['batch_normalization_477[0][0\n",
            " )                                                                  ]']                           \n",
            "                                                                                                  \n",
            " activation_480 (Activation  (None, 16, 16, 96)           0         ['batch_normalization_480[0][0\n",
            " )                                                                  ]']                           \n",
            "                                                                                                  \n",
            " activation_481 (Activation  (None, 16, 16, 32)           0         ['batch_normalization_481[0][0\n",
            " )                                                                  ]']                           \n",
            "                                                                                                  \n",
            " mixed0 (Concatenate)        (None, 16, 16, 256)          0         ['activation_475[0][0]',      \n",
            "                                                                     'activation_477[0][0]',      \n",
            "                                                                     'activation_480[0][0]',      \n",
            "                                                                     'activation_481[0][0]']      \n",
            "                                                                                                  \n",
            " conv2d_493 (Conv2D)         (None, 16, 16, 64)           16384     ['mixed0[0][0]']              \n",
            "                                                                                                  \n",
            " batch_normalization_485 (B  (None, 16, 16, 64)           192       ['conv2d_493[0][0]']          \n",
            " atchNormalization)                                                                               \n",
            "                                                                                                  \n",
            " activation_485 (Activation  (None, 16, 16, 64)           0         ['batch_normalization_485[0][0\n",
            " )                                                                  ]']                           \n",
            "                                                                                                  \n",
            " conv2d_491 (Conv2D)         (None, 16, 16, 48)           12288     ['mixed0[0][0]']              \n",
            "                                                                                                  \n",
            " conv2d_494 (Conv2D)         (None, 16, 16, 96)           55296     ['activation_485[0][0]']      \n",
            "                                                                                                  \n",
            " batch_normalization_483 (B  (None, 16, 16, 48)           144       ['conv2d_491[0][0]']          \n",
            " atchNormalization)                                                                               \n",
            "                                                                                                  \n",
            " batch_normalization_486 (B  (None, 16, 16, 96)           288       ['conv2d_494[0][0]']          \n",
            " atchNormalization)                                                                               \n",
            "                                                                                                  \n",
            " activation_483 (Activation  (None, 16, 16, 48)           0         ['batch_normalization_483[0][0\n",
            " )                                                                  ]']                           \n",
            "                                                                                                  \n",
            " activation_486 (Activation  (None, 16, 16, 96)           0         ['batch_normalization_486[0][0\n",
            " )                                                                  ]']                           \n",
            "                                                                                                  \n",
            " average_pooling2d_46 (Aver  (None, 16, 16, 256)          0         ['mixed0[0][0]']              \n",
            " agePooling2D)                                                                                    \n",
            "                                                                                                  \n",
            " conv2d_490 (Conv2D)         (None, 16, 16, 64)           16384     ['mixed0[0][0]']              \n",
            "                                                                                                  \n",
            " conv2d_492 (Conv2D)         (None, 16, 16, 64)           76800     ['activation_483[0][0]']      \n",
            "                                                                                                  \n",
            " conv2d_495 (Conv2D)         (None, 16, 16, 96)           82944     ['activation_486[0][0]']      \n",
            "                                                                                                  \n",
            " conv2d_496 (Conv2D)         (None, 16, 16, 64)           16384     ['average_pooling2d_46[0][0]']\n",
            "                                                                                                  \n",
            " batch_normalization_482 (B  (None, 16, 16, 64)           192       ['conv2d_490[0][0]']          \n",
            " atchNormalization)                                                                               \n",
            "                                                                                                  \n",
            " batch_normalization_484 (B  (None, 16, 16, 64)           192       ['conv2d_492[0][0]']          \n",
            " atchNormalization)                                                                               \n",
            "                                                                                                  \n",
            " batch_normalization_487 (B  (None, 16, 16, 96)           288       ['conv2d_495[0][0]']          \n",
            " atchNormalization)                                                                               \n",
            "                                                                                                  \n",
            " batch_normalization_488 (B  (None, 16, 16, 64)           192       ['conv2d_496[0][0]']          \n",
            " atchNormalization)                                                                               \n",
            "                                                                                                  \n",
            " activation_482 (Activation  (None, 16, 16, 64)           0         ['batch_normalization_482[0][0\n",
            " )                                                                  ]']                           \n",
            "                                                                                                  \n",
            " activation_484 (Activation  (None, 16, 16, 64)           0         ['batch_normalization_484[0][0\n",
            " )                                                                  ]']                           \n",
            "                                                                                                  \n",
            " activation_487 (Activation  (None, 16, 16, 96)           0         ['batch_normalization_487[0][0\n",
            " )                                                                  ]']                           \n",
            "                                                                                                  \n",
            " activation_488 (Activation  (None, 16, 16, 64)           0         ['batch_normalization_488[0][0\n",
            " )                                                                  ]']                           \n",
            "                                                                                                  \n",
            " mixed1 (Concatenate)        (None, 16, 16, 288)          0         ['activation_482[0][0]',      \n",
            "                                                                     'activation_484[0][0]',      \n",
            "                                                                     'activation_487[0][0]',      \n",
            "                                                                     'activation_488[0][0]']      \n",
            "                                                                                                  \n",
            " conv2d_500 (Conv2D)         (None, 16, 16, 64)           18432     ['mixed1[0][0]']              \n",
            "                                                                                                  \n",
            " batch_normalization_492 (B  (None, 16, 16, 64)           192       ['conv2d_500[0][0]']          \n",
            " atchNormalization)                                                                               \n",
            "                                                                                                  \n",
            " activation_492 (Activation  (None, 16, 16, 64)           0         ['batch_normalization_492[0][0\n",
            " )                                                                  ]']                           \n",
            "                                                                                                  \n",
            " conv2d_498 (Conv2D)         (None, 16, 16, 48)           13824     ['mixed1[0][0]']              \n",
            "                                                                                                  \n",
            " conv2d_501 (Conv2D)         (None, 16, 16, 96)           55296     ['activation_492[0][0]']      \n",
            "                                                                                                  \n",
            " batch_normalization_490 (B  (None, 16, 16, 48)           144       ['conv2d_498[0][0]']          \n",
            " atchNormalization)                                                                               \n",
            "                                                                                                  \n",
            " batch_normalization_493 (B  (None, 16, 16, 96)           288       ['conv2d_501[0][0]']          \n",
            " atchNormalization)                                                                               \n",
            "                                                                                                  \n",
            " activation_490 (Activation  (None, 16, 16, 48)           0         ['batch_normalization_490[0][0\n",
            " )                                                                  ]']                           \n",
            "                                                                                                  \n",
            " activation_493 (Activation  (None, 16, 16, 96)           0         ['batch_normalization_493[0][0\n",
            " )                                                                  ]']                           \n",
            "                                                                                                  \n",
            " average_pooling2d_47 (Aver  (None, 16, 16, 288)          0         ['mixed1[0][0]']              \n",
            " agePooling2D)                                                                                    \n",
            "                                                                                                  \n",
            " conv2d_497 (Conv2D)         (None, 16, 16, 64)           18432     ['mixed1[0][0]']              \n",
            "                                                                                                  \n",
            " conv2d_499 (Conv2D)         (None, 16, 16, 64)           76800     ['activation_490[0][0]']      \n",
            "                                                                                                  \n",
            " conv2d_502 (Conv2D)         (None, 16, 16, 96)           82944     ['activation_493[0][0]']      \n",
            "                                                                                                  \n",
            " conv2d_503 (Conv2D)         (None, 16, 16, 64)           18432     ['average_pooling2d_47[0][0]']\n",
            "                                                                                                  \n",
            " batch_normalization_489 (B  (None, 16, 16, 64)           192       ['conv2d_497[0][0]']          \n",
            " atchNormalization)                                                                               \n",
            "                                                                                                  \n",
            " batch_normalization_491 (B  (None, 16, 16, 64)           192       ['conv2d_499[0][0]']          \n",
            " atchNormalization)                                                                               \n",
            "                                                                                                  \n",
            " batch_normalization_494 (B  (None, 16, 16, 96)           288       ['conv2d_502[0][0]']          \n",
            " atchNormalization)                                                                               \n",
            "                                                                                                  \n",
            " batch_normalization_495 (B  (None, 16, 16, 64)           192       ['conv2d_503[0][0]']          \n",
            " atchNormalization)                                                                               \n",
            "                                                                                                  \n",
            " activation_489 (Activation  (None, 16, 16, 64)           0         ['batch_normalization_489[0][0\n",
            " )                                                                  ]']                           \n",
            "                                                                                                  \n",
            " activation_491 (Activation  (None, 16, 16, 64)           0         ['batch_normalization_491[0][0\n",
            " )                                                                  ]']                           \n",
            "                                                                                                  \n",
            " activation_494 (Activation  (None, 16, 16, 96)           0         ['batch_normalization_494[0][0\n",
            " )                                                                  ]']                           \n",
            "                                                                                                  \n",
            " activation_495 (Activation  (None, 16, 16, 64)           0         ['batch_normalization_495[0][0\n",
            " )                                                                  ]']                           \n",
            "                                                                                                  \n",
            " mixed2 (Concatenate)        (None, 16, 16, 288)          0         ['activation_489[0][0]',      \n",
            "                                                                     'activation_491[0][0]',      \n",
            "                                                                     'activation_494[0][0]',      \n",
            "                                                                     'activation_495[0][0]']      \n",
            "                                                                                                  \n",
            " conv2d_505 (Conv2D)         (None, 16, 16, 64)           18432     ['mixed2[0][0]']              \n",
            "                                                                                                  \n",
            " batch_normalization_497 (B  (None, 16, 16, 64)           192       ['conv2d_505[0][0]']          \n",
            " atchNormalization)                                                                               \n",
            "                                                                                                  \n",
            " activation_497 (Activation  (None, 16, 16, 64)           0         ['batch_normalization_497[0][0\n",
            " )                                                                  ]']                           \n",
            "                                                                                                  \n",
            " conv2d_506 (Conv2D)         (None, 16, 16, 96)           55296     ['activation_497[0][0]']      \n",
            "                                                                                                  \n",
            " batch_normalization_498 (B  (None, 16, 16, 96)           288       ['conv2d_506[0][0]']          \n",
            " atchNormalization)                                                                               \n",
            "                                                                                                  \n",
            " activation_498 (Activation  (None, 16, 16, 96)           0         ['batch_normalization_498[0][0\n",
            " )                                                                  ]']                           \n",
            "                                                                                                  \n",
            " conv2d_504 (Conv2D)         (None, 7, 7, 384)            995328    ['mixed2[0][0]']              \n",
            "                                                                                                  \n",
            " conv2d_507 (Conv2D)         (None, 7, 7, 96)             82944     ['activation_498[0][0]']      \n",
            "                                                                                                  \n",
            " batch_normalization_496 (B  (None, 7, 7, 384)            1152      ['conv2d_504[0][0]']          \n",
            " atchNormalization)                                                                               \n",
            "                                                                                                  \n",
            " batch_normalization_499 (B  (None, 7, 7, 96)             288       ['conv2d_507[0][0]']          \n",
            " atchNormalization)                                                                               \n",
            "                                                                                                  \n",
            " activation_496 (Activation  (None, 7, 7, 384)            0         ['batch_normalization_496[0][0\n",
            " )                                                                  ]']                           \n",
            "                                                                                                  \n",
            " activation_499 (Activation  (None, 7, 7, 96)             0         ['batch_normalization_499[0][0\n",
            " )                                                                  ]']                           \n",
            "                                                                                                  \n",
            " max_pooling2d_26 (MaxPooli  (None, 7, 7, 288)            0         ['mixed2[0][0]']              \n",
            " ng2D)                                                                                            \n",
            "                                                                                                  \n",
            " mixed3 (Concatenate)        (None, 7, 7, 768)            0         ['activation_496[0][0]',      \n",
            "                                                                     'activation_499[0][0]',      \n",
            "                                                                     'max_pooling2d_26[0][0]']    \n",
            "                                                                                                  \n",
            " conv2d_512 (Conv2D)         (None, 7, 7, 128)            98304     ['mixed3[0][0]']              \n",
            "                                                                                                  \n",
            " batch_normalization_504 (B  (None, 7, 7, 128)            384       ['conv2d_512[0][0]']          \n",
            " atchNormalization)                                                                               \n",
            "                                                                                                  \n",
            " activation_504 (Activation  (None, 7, 7, 128)            0         ['batch_normalization_504[0][0\n",
            " )                                                                  ]']                           \n",
            "                                                                                                  \n",
            " conv2d_513 (Conv2D)         (None, 7, 7, 128)            114688    ['activation_504[0][0]']      \n",
            "                                                                                                  \n",
            " batch_normalization_505 (B  (None, 7, 7, 128)            384       ['conv2d_513[0][0]']          \n",
            " atchNormalization)                                                                               \n",
            "                                                                                                  \n",
            " activation_505 (Activation  (None, 7, 7, 128)            0         ['batch_normalization_505[0][0\n",
            " )                                                                  ]']                           \n",
            "                                                                                                  \n",
            " conv2d_509 (Conv2D)         (None, 7, 7, 128)            98304     ['mixed3[0][0]']              \n",
            "                                                                                                  \n",
            " conv2d_514 (Conv2D)         (None, 7, 7, 128)            114688    ['activation_505[0][0]']      \n",
            "                                                                                                  \n",
            " batch_normalization_501 (B  (None, 7, 7, 128)            384       ['conv2d_509[0][0]']          \n",
            " atchNormalization)                                                                               \n",
            "                                                                                                  \n",
            " batch_normalization_506 (B  (None, 7, 7, 128)            384       ['conv2d_514[0][0]']          \n",
            " atchNormalization)                                                                               \n",
            "                                                                                                  \n",
            " activation_501 (Activation  (None, 7, 7, 128)            0         ['batch_normalization_501[0][0\n",
            " )                                                                  ]']                           \n",
            "                                                                                                  \n",
            " activation_506 (Activation  (None, 7, 7, 128)            0         ['batch_normalization_506[0][0\n",
            " )                                                                  ]']                           \n",
            "                                                                                                  \n",
            " conv2d_510 (Conv2D)         (None, 7, 7, 128)            114688    ['activation_501[0][0]']      \n",
            "                                                                                                  \n",
            " conv2d_515 (Conv2D)         (None, 7, 7, 128)            114688    ['activation_506[0][0]']      \n",
            "                                                                                                  \n",
            " batch_normalization_502 (B  (None, 7, 7, 128)            384       ['conv2d_510[0][0]']          \n",
            " atchNormalization)                                                                               \n",
            "                                                                                                  \n",
            " batch_normalization_507 (B  (None, 7, 7, 128)            384       ['conv2d_515[0][0]']          \n",
            " atchNormalization)                                                                               \n",
            "                                                                                                  \n",
            " activation_502 (Activation  (None, 7, 7, 128)            0         ['batch_normalization_502[0][0\n",
            " )                                                                  ]']                           \n",
            "                                                                                                  \n",
            " activation_507 (Activation  (None, 7, 7, 128)            0         ['batch_normalization_507[0][0\n",
            " )                                                                  ]']                           \n",
            "                                                                                                  \n",
            " average_pooling2d_48 (Aver  (None, 7, 7, 768)            0         ['mixed3[0][0]']              \n",
            " agePooling2D)                                                                                    \n",
            "                                                                                                  \n",
            " conv2d_508 (Conv2D)         (None, 7, 7, 192)            147456    ['mixed3[0][0]']              \n",
            "                                                                                                  \n",
            " conv2d_511 (Conv2D)         (None, 7, 7, 192)            172032    ['activation_502[0][0]']      \n",
            "                                                                                                  \n",
            " conv2d_516 (Conv2D)         (None, 7, 7, 192)            172032    ['activation_507[0][0]']      \n",
            "                                                                                                  \n",
            " conv2d_517 (Conv2D)         (None, 7, 7, 192)            147456    ['average_pooling2d_48[0][0]']\n",
            "                                                                                                  \n",
            " batch_normalization_500 (B  (None, 7, 7, 192)            576       ['conv2d_508[0][0]']          \n",
            " atchNormalization)                                                                               \n",
            "                                                                                                  \n",
            " batch_normalization_503 (B  (None, 7, 7, 192)            576       ['conv2d_511[0][0]']          \n",
            " atchNormalization)                                                                               \n",
            "                                                                                                  \n",
            " batch_normalization_508 (B  (None, 7, 7, 192)            576       ['conv2d_516[0][0]']          \n",
            " atchNormalization)                                                                               \n",
            "                                                                                                  \n",
            " batch_normalization_509 (B  (None, 7, 7, 192)            576       ['conv2d_517[0][0]']          \n",
            " atchNormalization)                                                                               \n",
            "                                                                                                  \n",
            " activation_500 (Activation  (None, 7, 7, 192)            0         ['batch_normalization_500[0][0\n",
            " )                                                                  ]']                           \n",
            "                                                                                                  \n",
            " activation_503 (Activation  (None, 7, 7, 192)            0         ['batch_normalization_503[0][0\n",
            " )                                                                  ]']                           \n",
            "                                                                                                  \n",
            " activation_508 (Activation  (None, 7, 7, 192)            0         ['batch_normalization_508[0][0\n",
            " )                                                                  ]']                           \n",
            "                                                                                                  \n",
            " activation_509 (Activation  (None, 7, 7, 192)            0         ['batch_normalization_509[0][0\n",
            " )                                                                  ]']                           \n",
            "                                                                                                  \n",
            " mixed4 (Concatenate)        (None, 7, 7, 768)            0         ['activation_500[0][0]',      \n",
            "                                                                     'activation_503[0][0]',      \n",
            "                                                                     'activation_508[0][0]',      \n",
            "                                                                     'activation_509[0][0]']      \n",
            "                                                                                                  \n",
            " conv2d_522 (Conv2D)         (None, 7, 7, 160)            122880    ['mixed4[0][0]']              \n",
            "                                                                                                  \n",
            " batch_normalization_514 (B  (None, 7, 7, 160)            480       ['conv2d_522[0][0]']          \n",
            " atchNormalization)                                                                               \n",
            "                                                                                                  \n",
            " activation_514 (Activation  (None, 7, 7, 160)            0         ['batch_normalization_514[0][0\n",
            " )                                                                  ]']                           \n",
            "                                                                                                  \n",
            " conv2d_523 (Conv2D)         (None, 7, 7, 160)            179200    ['activation_514[0][0]']      \n",
            "                                                                                                  \n",
            " batch_normalization_515 (B  (None, 7, 7, 160)            480       ['conv2d_523[0][0]']          \n",
            " atchNormalization)                                                                               \n",
            "                                                                                                  \n",
            " activation_515 (Activation  (None, 7, 7, 160)            0         ['batch_normalization_515[0][0\n",
            " )                                                                  ]']                           \n",
            "                                                                                                  \n",
            " conv2d_519 (Conv2D)         (None, 7, 7, 160)            122880    ['mixed4[0][0]']              \n",
            "                                                                                                  \n",
            " conv2d_524 (Conv2D)         (None, 7, 7, 160)            179200    ['activation_515[0][0]']      \n",
            "                                                                                                  \n",
            " batch_normalization_511 (B  (None, 7, 7, 160)            480       ['conv2d_519[0][0]']          \n",
            " atchNormalization)                                                                               \n",
            "                                                                                                  \n",
            " batch_normalization_516 (B  (None, 7, 7, 160)            480       ['conv2d_524[0][0]']          \n",
            " atchNormalization)                                                                               \n",
            "                                                                                                  \n",
            " activation_511 (Activation  (None, 7, 7, 160)            0         ['batch_normalization_511[0][0\n",
            " )                                                                  ]']                           \n",
            "                                                                                                  \n",
            " activation_516 (Activation  (None, 7, 7, 160)            0         ['batch_normalization_516[0][0\n",
            " )                                                                  ]']                           \n",
            "                                                                                                  \n",
            " conv2d_520 (Conv2D)         (None, 7, 7, 160)            179200    ['activation_511[0][0]']      \n",
            "                                                                                                  \n",
            " conv2d_525 (Conv2D)         (None, 7, 7, 160)            179200    ['activation_516[0][0]']      \n",
            "                                                                                                  \n",
            " batch_normalization_512 (B  (None, 7, 7, 160)            480       ['conv2d_520[0][0]']          \n",
            " atchNormalization)                                                                               \n",
            "                                                                                                  \n",
            " batch_normalization_517 (B  (None, 7, 7, 160)            480       ['conv2d_525[0][0]']          \n",
            " atchNormalization)                                                                               \n",
            "                                                                                                  \n",
            " activation_512 (Activation  (None, 7, 7, 160)            0         ['batch_normalization_512[0][0\n",
            " )                                                                  ]']                           \n",
            "                                                                                                  \n",
            " activation_517 (Activation  (None, 7, 7, 160)            0         ['batch_normalization_517[0][0\n",
            " )                                                                  ]']                           \n",
            "                                                                                                  \n",
            " average_pooling2d_49 (Aver  (None, 7, 7, 768)            0         ['mixed4[0][0]']              \n",
            " agePooling2D)                                                                                    \n",
            "                                                                                                  \n",
            " conv2d_518 (Conv2D)         (None, 7, 7, 192)            147456    ['mixed4[0][0]']              \n",
            "                                                                                                  \n",
            " conv2d_521 (Conv2D)         (None, 7, 7, 192)            215040    ['activation_512[0][0]']      \n",
            "                                                                                                  \n",
            " conv2d_526 (Conv2D)         (None, 7, 7, 192)            215040    ['activation_517[0][0]']      \n",
            "                                                                                                  \n",
            " conv2d_527 (Conv2D)         (None, 7, 7, 192)            147456    ['average_pooling2d_49[0][0]']\n",
            "                                                                                                  \n",
            " batch_normalization_510 (B  (None, 7, 7, 192)            576       ['conv2d_518[0][0]']          \n",
            " atchNormalization)                                                                               \n",
            "                                                                                                  \n",
            " batch_normalization_513 (B  (None, 7, 7, 192)            576       ['conv2d_521[0][0]']          \n",
            " atchNormalization)                                                                               \n",
            "                                                                                                  \n",
            " batch_normalization_518 (B  (None, 7, 7, 192)            576       ['conv2d_526[0][0]']          \n",
            " atchNormalization)                                                                               \n",
            "                                                                                                  \n",
            " batch_normalization_519 (B  (None, 7, 7, 192)            576       ['conv2d_527[0][0]']          \n",
            " atchNormalization)                                                                               \n",
            "                                                                                                  \n",
            " activation_510 (Activation  (None, 7, 7, 192)            0         ['batch_normalization_510[0][0\n",
            " )                                                                  ]']                           \n",
            "                                                                                                  \n",
            " activation_513 (Activation  (None, 7, 7, 192)            0         ['batch_normalization_513[0][0\n",
            " )                                                                  ]']                           \n",
            "                                                                                                  \n",
            " activation_518 (Activation  (None, 7, 7, 192)            0         ['batch_normalization_518[0][0\n",
            " )                                                                  ]']                           \n",
            "                                                                                                  \n",
            " activation_519 (Activation  (None, 7, 7, 192)            0         ['batch_normalization_519[0][0\n",
            " )                                                                  ]']                           \n",
            "                                                                                                  \n",
            " mixed5 (Concatenate)        (None, 7, 7, 768)            0         ['activation_510[0][0]',      \n",
            "                                                                     'activation_513[0][0]',      \n",
            "                                                                     'activation_518[0][0]',      \n",
            "                                                                     'activation_519[0][0]']      \n",
            "                                                                                                  \n",
            " conv2d_532 (Conv2D)         (None, 7, 7, 160)            122880    ['mixed5[0][0]']              \n",
            "                                                                                                  \n",
            " batch_normalization_524 (B  (None, 7, 7, 160)            480       ['conv2d_532[0][0]']          \n",
            " atchNormalization)                                                                               \n",
            "                                                                                                  \n",
            " activation_524 (Activation  (None, 7, 7, 160)            0         ['batch_normalization_524[0][0\n",
            " )                                                                  ]']                           \n",
            "                                                                                                  \n",
            " conv2d_533 (Conv2D)         (None, 7, 7, 160)            179200    ['activation_524[0][0]']      \n",
            "                                                                                                  \n",
            " batch_normalization_525 (B  (None, 7, 7, 160)            480       ['conv2d_533[0][0]']          \n",
            " atchNormalization)                                                                               \n",
            "                                                                                                  \n",
            " activation_525 (Activation  (None, 7, 7, 160)            0         ['batch_normalization_525[0][0\n",
            " )                                                                  ]']                           \n",
            "                                                                                                  \n",
            " conv2d_529 (Conv2D)         (None, 7, 7, 160)            122880    ['mixed5[0][0]']              \n",
            "                                                                                                  \n",
            " conv2d_534 (Conv2D)         (None, 7, 7, 160)            179200    ['activation_525[0][0]']      \n",
            "                                                                                                  \n",
            " batch_normalization_521 (B  (None, 7, 7, 160)            480       ['conv2d_529[0][0]']          \n",
            " atchNormalization)                                                                               \n",
            "                                                                                                  \n",
            " batch_normalization_526 (B  (None, 7, 7, 160)            480       ['conv2d_534[0][0]']          \n",
            " atchNormalization)                                                                               \n",
            "                                                                                                  \n",
            " activation_521 (Activation  (None, 7, 7, 160)            0         ['batch_normalization_521[0][0\n",
            " )                                                                  ]']                           \n",
            "                                                                                                  \n",
            " activation_526 (Activation  (None, 7, 7, 160)            0         ['batch_normalization_526[0][0\n",
            " )                                                                  ]']                           \n",
            "                                                                                                  \n",
            " conv2d_530 (Conv2D)         (None, 7, 7, 160)            179200    ['activation_521[0][0]']      \n",
            "                                                                                                  \n",
            " conv2d_535 (Conv2D)         (None, 7, 7, 160)            179200    ['activation_526[0][0]']      \n",
            "                                                                                                  \n",
            " batch_normalization_522 (B  (None, 7, 7, 160)            480       ['conv2d_530[0][0]']          \n",
            " atchNormalization)                                                                               \n",
            "                                                                                                  \n",
            " batch_normalization_527 (B  (None, 7, 7, 160)            480       ['conv2d_535[0][0]']          \n",
            " atchNormalization)                                                                               \n",
            "                                                                                                  \n",
            " activation_522 (Activation  (None, 7, 7, 160)            0         ['batch_normalization_522[0][0\n",
            " )                                                                  ]']                           \n",
            "                                                                                                  \n",
            " activation_527 (Activation  (None, 7, 7, 160)            0         ['batch_normalization_527[0][0\n",
            " )                                                                  ]']                           \n",
            "                                                                                                  \n",
            " average_pooling2d_50 (Aver  (None, 7, 7, 768)            0         ['mixed5[0][0]']              \n",
            " agePooling2D)                                                                                    \n",
            "                                                                                                  \n",
            " conv2d_528 (Conv2D)         (None, 7, 7, 192)            147456    ['mixed5[0][0]']              \n",
            "                                                                                                  \n",
            " conv2d_531 (Conv2D)         (None, 7, 7, 192)            215040    ['activation_522[0][0]']      \n",
            "                                                                                                  \n",
            " conv2d_536 (Conv2D)         (None, 7, 7, 192)            215040    ['activation_527[0][0]']      \n",
            "                                                                                                  \n",
            " conv2d_537 (Conv2D)         (None, 7, 7, 192)            147456    ['average_pooling2d_50[0][0]']\n",
            "                                                                                                  \n",
            " batch_normalization_520 (B  (None, 7, 7, 192)            576       ['conv2d_528[0][0]']          \n",
            " atchNormalization)                                                                               \n",
            "                                                                                                  \n",
            " batch_normalization_523 (B  (None, 7, 7, 192)            576       ['conv2d_531[0][0]']          \n",
            " atchNormalization)                                                                               \n",
            "                                                                                                  \n",
            " batch_normalization_528 (B  (None, 7, 7, 192)            576       ['conv2d_536[0][0]']          \n",
            " atchNormalization)                                                                               \n",
            "                                                                                                  \n",
            " batch_normalization_529 (B  (None, 7, 7, 192)            576       ['conv2d_537[0][0]']          \n",
            " atchNormalization)                                                                               \n",
            "                                                                                                  \n",
            " activation_520 (Activation  (None, 7, 7, 192)            0         ['batch_normalization_520[0][0\n",
            " )                                                                  ]']                           \n",
            "                                                                                                  \n",
            " activation_523 (Activation  (None, 7, 7, 192)            0         ['batch_normalization_523[0][0\n",
            " )                                                                  ]']                           \n",
            "                                                                                                  \n",
            " activation_528 (Activation  (None, 7, 7, 192)            0         ['batch_normalization_528[0][0\n",
            " )                                                                  ]']                           \n",
            "                                                                                                  \n",
            " activation_529 (Activation  (None, 7, 7, 192)            0         ['batch_normalization_529[0][0\n",
            " )                                                                  ]']                           \n",
            "                                                                                                  \n",
            " mixed6 (Concatenate)        (None, 7, 7, 768)            0         ['activation_520[0][0]',      \n",
            "                                                                     'activation_523[0][0]',      \n",
            "                                                                     'activation_528[0][0]',      \n",
            "                                                                     'activation_529[0][0]']      \n",
            "                                                                                                  \n",
            " conv2d_542 (Conv2D)         (None, 7, 7, 192)            147456    ['mixed6[0][0]']              \n",
            "                                                                                                  \n",
            " batch_normalization_534 (B  (None, 7, 7, 192)            576       ['conv2d_542[0][0]']          \n",
            " atchNormalization)                                                                               \n",
            "                                                                                                  \n",
            " activation_534 (Activation  (None, 7, 7, 192)            0         ['batch_normalization_534[0][0\n",
            " )                                                                  ]']                           \n",
            "                                                                                                  \n",
            " conv2d_543 (Conv2D)         (None, 7, 7, 192)            258048    ['activation_534[0][0]']      \n",
            "                                                                                                  \n",
            " batch_normalization_535 (B  (None, 7, 7, 192)            576       ['conv2d_543[0][0]']          \n",
            " atchNormalization)                                                                               \n",
            "                                                                                                  \n",
            " activation_535 (Activation  (None, 7, 7, 192)            0         ['batch_normalization_535[0][0\n",
            " )                                                                  ]']                           \n",
            "                                                                                                  \n",
            " conv2d_539 (Conv2D)         (None, 7, 7, 192)            147456    ['mixed6[0][0]']              \n",
            "                                                                                                  \n",
            " conv2d_544 (Conv2D)         (None, 7, 7, 192)            258048    ['activation_535[0][0]']      \n",
            "                                                                                                  \n",
            " batch_normalization_531 (B  (None, 7, 7, 192)            576       ['conv2d_539[0][0]']          \n",
            " atchNormalization)                                                                               \n",
            "                                                                                                  \n",
            " batch_normalization_536 (B  (None, 7, 7, 192)            576       ['conv2d_544[0][0]']          \n",
            " atchNormalization)                                                                               \n",
            "                                                                                                  \n",
            " activation_531 (Activation  (None, 7, 7, 192)            0         ['batch_normalization_531[0][0\n",
            " )                                                                  ]']                           \n",
            "                                                                                                  \n",
            " activation_536 (Activation  (None, 7, 7, 192)            0         ['batch_normalization_536[0][0\n",
            " )                                                                  ]']                           \n",
            "                                                                                                  \n",
            " conv2d_540 (Conv2D)         (None, 7, 7, 192)            258048    ['activation_531[0][0]']      \n",
            "                                                                                                  \n",
            " conv2d_545 (Conv2D)         (None, 7, 7, 192)            258048    ['activation_536[0][0]']      \n",
            "                                                                                                  \n",
            " batch_normalization_532 (B  (None, 7, 7, 192)            576       ['conv2d_540[0][0]']          \n",
            " atchNormalization)                                                                               \n",
            "                                                                                                  \n",
            " batch_normalization_537 (B  (None, 7, 7, 192)            576       ['conv2d_545[0][0]']          \n",
            " atchNormalization)                                                                               \n",
            "                                                                                                  \n",
            " activation_532 (Activation  (None, 7, 7, 192)            0         ['batch_normalization_532[0][0\n",
            " )                                                                  ]']                           \n",
            "                                                                                                  \n",
            " activation_537 (Activation  (None, 7, 7, 192)            0         ['batch_normalization_537[0][0\n",
            " )                                                                  ]']                           \n",
            "                                                                                                  \n",
            " average_pooling2d_51 (Aver  (None, 7, 7, 768)            0         ['mixed6[0][0]']              \n",
            " agePooling2D)                                                                                    \n",
            "                                                                                                  \n",
            " conv2d_538 (Conv2D)         (None, 7, 7, 192)            147456    ['mixed6[0][0]']              \n",
            "                                                                                                  \n",
            " conv2d_541 (Conv2D)         (None, 7, 7, 192)            258048    ['activation_532[0][0]']      \n",
            "                                                                                                  \n",
            " conv2d_546 (Conv2D)         (None, 7, 7, 192)            258048    ['activation_537[0][0]']      \n",
            "                                                                                                  \n",
            " conv2d_547 (Conv2D)         (None, 7, 7, 192)            147456    ['average_pooling2d_51[0][0]']\n",
            "                                                                                                  \n",
            " batch_normalization_530 (B  (None, 7, 7, 192)            576       ['conv2d_538[0][0]']          \n",
            " atchNormalization)                                                                               \n",
            "                                                                                                  \n",
            " batch_normalization_533 (B  (None, 7, 7, 192)            576       ['conv2d_541[0][0]']          \n",
            " atchNormalization)                                                                               \n",
            "                                                                                                  \n",
            " batch_normalization_538 (B  (None, 7, 7, 192)            576       ['conv2d_546[0][0]']          \n",
            " atchNormalization)                                                                               \n",
            "                                                                                                  \n",
            " batch_normalization_539 (B  (None, 7, 7, 192)            576       ['conv2d_547[0][0]']          \n",
            " atchNormalization)                                                                               \n",
            "                                                                                                  \n",
            " activation_530 (Activation  (None, 7, 7, 192)            0         ['batch_normalization_530[0][0\n",
            " )                                                                  ]']                           \n",
            "                                                                                                  \n",
            " activation_533 (Activation  (None, 7, 7, 192)            0         ['batch_normalization_533[0][0\n",
            " )                                                                  ]']                           \n",
            "                                                                                                  \n",
            " activation_538 (Activation  (None, 7, 7, 192)            0         ['batch_normalization_538[0][0\n",
            " )                                                                  ]']                           \n",
            "                                                                                                  \n",
            " activation_539 (Activation  (None, 7, 7, 192)            0         ['batch_normalization_539[0][0\n",
            " )                                                                  ]']                           \n",
            "                                                                                                  \n",
            " mixed7 (Concatenate)        (None, 7, 7, 768)            0         ['activation_530[0][0]',      \n",
            "                                                                     'activation_533[0][0]',      \n",
            "                                                                     'activation_538[0][0]',      \n",
            "                                                                     'activation_539[0][0]']      \n",
            "                                                                                                  \n",
            " conv2d_572 (Conv2D)         (None, 5, 5, 64)             442432    ['mixed7[0][0]']              \n",
            "                                                                                                  \n",
            " max_pooling2d_28 (MaxPooli  (None, 2, 2, 64)             0         ['conv2d_572[0][0]']          \n",
            " ng2D)                                                                                            \n",
            "                                                                                                  \n",
            " conv2d_573 (Conv2D)         (None, 1, 1, 64)             16448     ['max_pooling2d_28[0][0]']    \n",
            "                                                                                                  \n",
            " flatten_8 (Flatten)         (None, 64)                   0         ['conv2d_573[0][0]']          \n",
            "                                                                                                  \n",
            " dense_16 (Dense)            (None, 1024)                 66560     ['flatten_8[0][0]']           \n",
            "                                                                                                  \n",
            " dropout_8 (Dropout)         (None, 1024)                 0         ['dense_16[0][0]']            \n",
            "                                                                                                  \n",
            " dense_17 (Dense)            (None, 5)                    5125      ['dropout_8[0][0]']           \n",
            "                                                                                                  \n",
            "==================================================================================================\n",
            "Total params: 9505829 (36.26 MB)\n",
            "Trainable params: 530565 (2.02 MB)\n",
            "Non-trainable params: 8975264 (34.24 MB)\n",
            "__________________________________________________________________________________________________\n"
          ]
        }
      ]
    },
    {
      "cell_type": "code",
      "source": [
        "model.compile(optimizer='adam',\n",
        "              loss='categorical_crossentropy',\n",
        "              metrics=['accuracy'])"
      ],
      "metadata": {
        "id": "hl4cqadISDiS"
      },
      "execution_count": 135,
      "outputs": []
    },
    {
      "cell_type": "code",
      "source": [
        "class myCallback(tf.keras.callbacks.Callback):\n",
        "  def on_epoch_end(self, epoch, log={}):\n",
        "    if(log.get('accuracy')>0.99) and (log.get('val_accuracy')>0.99):\n",
        "      self.model.stop_training = True\n",
        "      print('\\nThe accuracy has reached > 99%')\n",
        "\n",
        "callback = myCallback()"
      ],
      "metadata": {
        "id": "kGHvbPNxSlWj"
      },
      "execution_count": 136,
      "outputs": []
    },
    {
      "cell_type": "code",
      "source": [
        "history = model.fit(train_generator, epochs=50, validation_data=valid_generator, callbacks=[callback])"
      ],
      "metadata": {
        "id": "6X_3VwDPSR9w",
        "colab": {
          "base_uri": "https://localhost:8080/"
        },
        "outputId": "d8ffa1a1-b197-4996-d8f5-27f84a5599ee"
      },
      "execution_count": 137,
      "outputs": [
        {
          "output_type": "stream",
          "name": "stdout",
          "text": [
            "Epoch 1/50\n",
            "43/43 [==============================] - 16s 280ms/step - loss: 0.8548 - accuracy: 0.6341 - val_loss: 0.3668 - val_accuracy: 0.8400\n",
            "Epoch 2/50\n",
            "43/43 [==============================] - 8s 193ms/step - loss: 0.3240 - accuracy: 0.8711 - val_loss: 0.2009 - val_accuracy: 0.9600\n",
            "Epoch 3/50\n",
            "43/43 [==============================] - 11s 252ms/step - loss: 0.2129 - accuracy: 0.9200 - val_loss: 0.2524 - val_accuracy: 0.9267\n",
            "Epoch 4/50\n",
            "43/43 [==============================] - 10s 225ms/step - loss: 0.1587 - accuracy: 0.9437 - val_loss: 0.1241 - val_accuracy: 0.9600\n",
            "Epoch 5/50\n",
            "43/43 [==============================] - 9s 205ms/step - loss: 0.1374 - accuracy: 0.9481 - val_loss: 0.0922 - val_accuracy: 0.9667\n",
            "Epoch 6/50\n",
            "43/43 [==============================] - 11s 256ms/step - loss: 0.0973 - accuracy: 0.9615 - val_loss: 0.0810 - val_accuracy: 0.9600\n",
            "Epoch 7/50\n",
            "43/43 [==============================] - 8s 193ms/step - loss: 0.1279 - accuracy: 0.9519 - val_loss: 0.0555 - val_accuracy: 0.9867\n",
            "Epoch 8/50\n",
            "43/43 [==============================] - 11s 253ms/step - loss: 0.1049 - accuracy: 0.9593 - val_loss: 0.1352 - val_accuracy: 0.9600\n",
            "Epoch 9/50\n",
            "43/43 [==============================] - 10s 232ms/step - loss: 0.1186 - accuracy: 0.9600 - val_loss: 0.0593 - val_accuracy: 0.9867\n",
            "Epoch 10/50\n",
            "43/43 [==============================] - 9s 206ms/step - loss: 0.0895 - accuracy: 0.9674 - val_loss: 0.0213 - val_accuracy: 1.0000\n",
            "Epoch 11/50\n",
            "43/43 [==============================] - 11s 251ms/step - loss: 0.0440 - accuracy: 0.9800 - val_loss: 0.1424 - val_accuracy: 0.9600\n",
            "Epoch 12/50\n",
            "43/43 [==============================] - 8s 188ms/step - loss: 0.0829 - accuracy: 0.9711 - val_loss: 0.0481 - val_accuracy: 0.9733\n",
            "Epoch 13/50\n",
            "43/43 [==============================] - 9s 213ms/step - loss: 0.0650 - accuracy: 0.9763 - val_loss: 0.0372 - val_accuracy: 0.9933\n",
            "Epoch 14/50\n",
            "43/43 [==============================] - 11s 250ms/step - loss: 0.0435 - accuracy: 0.9807 - val_loss: 0.0220 - val_accuracy: 0.9867\n",
            "Epoch 15/50\n",
            "43/43 [==============================] - 8s 190ms/step - loss: 0.1009 - accuracy: 0.9659 - val_loss: 0.0716 - val_accuracy: 0.9867\n",
            "Epoch 16/50\n",
            "43/43 [==============================] - 10s 231ms/step - loss: 0.0870 - accuracy: 0.9741 - val_loss: 0.0490 - val_accuracy: 0.9733\n",
            "Epoch 17/50\n",
            "43/43 [==============================] - 11s 253ms/step - loss: 0.0595 - accuracy: 0.9785 - val_loss: 0.0596 - val_accuracy: 0.9733\n",
            "Epoch 18/50\n",
            "43/43 [==============================] - 11s 256ms/step - loss: 0.0812 - accuracy: 0.9741 - val_loss: 0.0083 - val_accuracy: 1.0000\n",
            "Epoch 19/50\n",
            "43/43 [==============================] - 10s 232ms/step - loss: 0.0368 - accuracy: 0.9867 - val_loss: 0.0025 - val_accuracy: 1.0000\n",
            "Epoch 20/50\n",
            "43/43 [==============================] - 9s 198ms/step - loss: 0.0445 - accuracy: 0.9852 - val_loss: 0.0443 - val_accuracy: 0.9867\n",
            "Epoch 21/50\n",
            "43/43 [==============================] - 11s 263ms/step - loss: 0.0288 - accuracy: 0.9889 - val_loss: 0.0019 - val_accuracy: 1.0000\n",
            "Epoch 22/50\n",
            "43/43 [==============================] - 9s 219ms/step - loss: 0.0655 - accuracy: 0.9770 - val_loss: 0.0305 - val_accuracy: 0.9867\n",
            "Epoch 23/50\n",
            "43/43 [==============================] - 9s 206ms/step - loss: 0.0479 - accuracy: 0.9859 - val_loss: 0.0152 - val_accuracy: 1.0000\n",
            "Epoch 24/50\n",
            "43/43 [==============================] - ETA: 0s - loss: 0.0308 - accuracy: 0.9911\n",
            "The accuracy has reached > 99%\n",
            "43/43 [==============================] - 11s 256ms/step - loss: 0.0308 - accuracy: 0.9911 - val_loss: 0.0154 - val_accuracy: 1.0000\n"
          ]
        }
      ]
    },
    {
      "cell_type": "code",
      "source": [
        "plt.plot(history.history['accuracy'])\n",
        "plt.plot(history.history['val_accuracy'])\n",
        "plt.title('model_accuracy')\n",
        "plt.ylabel('accuracy')\n",
        "plt.xlabel('ephocs')\n",
        "plt.legend(['train', 'validation'])\n",
        "plt.show()\n",
        "\n",
        "plt.plot(history.history['loss'])\n",
        "plt.plot(history.history['val_loss'])\n",
        "plt.title('model_loss')\n",
        "plt.ylabel('accuracy')\n",
        "plt.xlabel('ephocs')\n",
        "plt.legend(['loss', 'val_loss'])\n",
        "plt.show()"
      ],
      "metadata": {
        "id": "QuqEW1SBSwXq",
        "colab": {
          "base_uri": "https://localhost:8080/",
          "height": 927
        },
        "outputId": "55cad511-3298-4dea-c8b1-f54676c1fd5a"
      },
      "execution_count": 138,
      "outputs": [
        {
          "output_type": "display_data",
          "data": {
            "text/plain": [
              "<Figure size 640x480 with 1 Axes>"
            ],
            "image/png": "[encoded data removed]"
          },
          "metadata": {}
        },
        {
          "output_type": "display_data",
          "data": {
            "text/plain": [
              "<Figure size 640x480 with 1 Axes>"
            ],
            "image/png": "[encoded data removed]"
          },
          "metadata": {}
        }
      ]
    },
    {
      "cell_type": "code",
      "source": [
        "from google.colab import files\n",
        "from tensorflow.keras.utils import load_img, img_to_array\n",
        "\n",
        "classes = ['bagong', 'cepot', 'gareng', 'petruk', 'semar']\n",
        "\n",
        "uploaded = files.upload()\n",
        "\n",
        "for fn in uploaded.keys():\n",
        "\n",
        "  # predicting images\n",
        "  path = fn\n",
        "  img = load_img(path, target_size=(150, 150))\n",
        "  x = img_to_array(img) / 255.0\n",
        "  x = np.expand_dims(x, axis=0)\n",
        "\n",
        "  images = np.vstack([x])\n",
        "  output = model.predict(images)\n",
        "  best_index = np.argmax(output)\n",
        "  print(fn)\n",
        "  print(output)\n",
        "  print(classes[best_index])"
      ],
      "metadata": {
        "id": "sfacjC6hEsxc",
        "colab": {
          "base_uri": "https://localhost:8080/",
          "height": 142
        },
        "outputId": "3e72d5a0-22a1-44f1-c88f-3c610aab1d6b"
      },
      "execution_count": 116,
      "outputs": [
        {
          "output_type": "display_data",
          "data": {
            "text/plain": [
              "<IPython.core.display.HTML object>"
            ],
            "text/html": [
              "\n",
              "     <input type=\"file\" id=\"files-3c74e3ed-cf76-4ba2-abfb-b853cd1bb2a9\" name=\"files[]\" multiple disabled\n",
              "        style=\"border:none\" />\n",
              "     <output id=\"result-3c74e3ed-cf76-4ba2-abfb-b853cd1bb2a9\">\n",
              "      Upload widget is only available when the cell has been executed in the\n",
              "      current browser session. Please rerun this cell to enable.\n",
              "      </output>\n",
              "      <script>// Copyright 2017 Google LLC\n",
              "//\n",
              "// Licensed under the Apache License, Version 2.0 (the \"License\");\n",
              "// you may not use this file except in compliance with the License.\n",
              "// You may obtain a copy of the License at\n",
              "//\n",
              "//      http://www.apache.org/licenses/LICENSE-2.0\n",
              "//\n",
              "// Unless required by applicable law or agreed to in writing, software\n",
              "// distributed under the License is distributed on an \"AS IS\" BASIS,\n",
              "// WITHOUT WARRANTIES OR CONDITIONS OF ANY KIND, either express or implied.\n",
              "// See the License for the specific language governing permissions and\n",
              "// limitations under the License.\n",
              "\n",
              "/**\n",
              " * @fileoverview Helpers for google.colab Python module.\n",
              " */\n",
              "(function(scope) {\n",
              "function span(text, styleAttributes = {}) {\n",
              "  const element = document.createElement('span');\n",
              "  element.textContent = text;\n",
              "  for (const key of Object.keys(styleAttributes)) {\n",
              "    element.style[key] = styleAttributes[key];\n",
              "  }\n",
              "  return element;\n",
              "}\n",
              "\n",
              "// Max number of bytes which will be uploaded at a time.\n",
              "const MAX_PAYLOAD_SIZE = 100 * 1024;\n",
              "\n",
              "function _uploadFiles(inputId, outputId) {\n",
              "  const steps = uploadFilesStep(inputId, outputId);\n",
              "  const outputElement = document.getElementById(outputId);\n",
              "  // Cache steps on the outputElement to make it available for the next call\n",
              "  // to uploadFilesContinue from Python.\n",
              "  outputElement.steps = steps;\n",
              "\n",
              "  return _uploadFilesContinue(outputId);\n",
              "}\n",
              "\n",
              "// This is roughly an async generator (not supported in the browser yet),\n",
              "// where there are multiple asynchronous steps and the Python side is going\n",
              "// to poll for completion of each step.\n",
              "// This uses a Promise to block the python side on completion of each step,\n",
              "// then passes the result of the previous step as the input to the next step.\n",
              "function _uploadFilesContinue(outputId) {\n",
              "  const outputElement = document.getElementById(outputId);\n",
              "  const steps = outputElement.steps;\n",
              "\n",
              "  const next = steps.next(outputElement.lastPromiseValue);\n",
              "  return Promise.resolve(next.value.promise).then((value) => {\n",
              "    // Cache the last promise value to make it available to the next\n",
              "    // step of the generator.\n",
              "    outputElement.lastPromiseValue = value;\n",
              "    return next.value.response;\n",
              "  });\n",
              "}\n",
              "\n",
              "/**\n",
              " * Generator function which is called between each async step of the upload\n",
              " * process.\n",
              " * @param {string} inputId Element ID of the input file picker element.\n",
              " * @param {string} outputId Element ID of the output display.\n",
              " * @return {!Iterable<!Object>} Iterable of next steps.\n",
              " */\n",
              "function* uploadFilesStep(inputId, outputId) {\n",
              "  const inputElement = document.getElementById(inputId);\n",
              "  inputElement.disabled = false;\n",
              "\n",
              "  const outputElement = document.getElementById(outputId);\n",
              "  outputElement.innerHTML = '';\n",
              "\n",
              "  const pickedPromise = new Promise((resolve) => {\n",
              "    inputElement.addEventListener('change', (e) => {\n",
              "      resolve(e.target.files);\n",
              "    });\n",
              "  });\n",
              "\n",
              "  const cancel = document.createElement('button');\n",
              "  inputElement.parentElement.appendChild(cancel);\n",
              "  cancel.textContent = 'Cancel upload';\n",
              "  const cancelPromise = new Promise((resolve) => {\n",
              "    cancel.onclick = () => {\n",
              "      resolve(null);\n",
              "    };\n",
              "  });\n",
              "\n",
              "  // Wait for the user to pick the files.\n",
              "  const files = yield {\n",
              "    promise: Promise.race([pickedPromise, cancelPromise]),\n",
              "    response: {\n",
              "      action: 'starting',\n",
              "    }\n",
              "  };\n",
              "\n",
              "  cancel.remove();\n",
              "\n",
              "  // Disable the input element since further picks are not allowed.\n",
              "  inputElement.disabled = true;\n",
              "\n",
              "  if (!files) {\n",
              "    return {\n",
              "      response: {\n",
              "        action: 'complete',\n",
              "      }\n",
              "    };\n",
              "  }\n",
              "\n",
              "  for (const file of files) {\n",
              "    const li = document.createElement('li');\n",
              "    li.append(span(file.name, {fontWeight: 'bold'}));\n",
              "    li.append(span(\n",
              "        `(${file.type || 'n/a'}) - ${file.size} bytes, ` +\n",
              "        `last modified: ${\n",
              "            file.lastModifiedDate ? file.lastModifiedDate.toLocaleDateString() :\n",
              "                                    'n/a'} - `));\n",
              "    const percent = span('0% done');\n",
              "    li.appendChild(percent);\n",
              "\n",
              "    outputElement.appendChild(li);\n",
              "\n",
              "    const fileDataPromise = new Promise((resolve) => {\n",
              "      const reader = new FileReader();\n",
              "      reader.onload = (e) => {\n",
              "        resolve(e.target.result);\n",
              "      };\n",
              "      reader.readAsArrayBuffer(file);\n",
              "    });\n",
              "    // Wait for the data to be ready.\n",
              "    let fileData = yield {\n",
              "      promise: fileDataPromise,\n",
              "      response: {\n",
              "        action: 'continue',\n",
              "      }\n",
              "    };\n",
              "\n",
              "    // Use a chunked sending to avoid message size limits. See b/62115660.\n",
              "    let position = 0;\n",
              "    do {\n",
              "      const length = Math.min(fileData.byteLength - position, MAX_PAYLOAD_SIZE);\n",
              "      const chunk = new Uint8Array(fileData, position, length);\n",
              "      position += length;\n",
              "\n",
              "      const base64 = btoa(String.fromCharCode.apply(null, chunk));\n",
              "      yield {\n",
              "        response: {\n",
              "          action: 'append',\n",
              "          file: file.name,\n",
              "          data: base64,\n",
              "        },\n",
              "      };\n",
              "\n",
              "      let percentDone = fileData.byteLength === 0 ?\n",
              "          100 :\n",
              "          Math.round((position / fileData.byteLength) * 100);\n",
              "      percent.textContent = `${percentDone}% done`;\n",
              "\n",
              "    } while (position < fileData.byteLength);\n",
              "  }\n",
              "\n",
              "  // All done.\n",
              "  yield {\n",
              "    response: {\n",
              "      action: 'complete',\n",
              "    }\n",
              "  };\n",
              "}\n",
              "\n",
              "scope.google = scope.google || {};\n",
              "scope.google.colab = scope.google.colab || {};\n",
              "scope.google.colab._files = {\n",
              "  _uploadFiles,\n",
              "  _uploadFilesContinue,\n",
              "};\n",
              "})(self);\n",
              "</script> "
            ]
          },
          "metadata": {}
        },
        {
          "output_type": "stream",
          "name": "stdout",
          "text": [
            "Saving wayang_cepot_292.jpg to wayang_cepot_292.jpg\n",
            "1/1 [==============================] - 1s 883ms/step\n",
            "wayang_cepot_292.jpg\n",
            "[[6.1770354e-16 1.0000000e+00 5.4353093e-16 2.5745503e-15 7.1358860e-17]]\n",
            "cepot\n"
          ]
        }
      ]
    },
    {
      "cell_type": "code",
      "source": [
        "# os.listdir(train_dir)"
      ],
      "metadata": {
        "id": "pc6MYvTTed54"
      },
      "execution_count": 117,
      "outputs": []
    },
    {
      "cell_type": "code",
      "source": [
        "!mkdir -p saved_model_h5\n",
        "model.save('saved_model_h5/model_tl_inception.h5')"
      ],
      "metadata": {
        "id": "mKhNMTlTeKis",
        "colab": {
          "base_uri": "https://localhost:8080/"
        },
        "outputId": "ab91d369-8aa6-4ecd-c26d-3fdbec26dcc1"
      },
      "execution_count": 139,
      "outputs": [
        {
          "output_type": "stream",
          "name": "stderr",
          "text": [
            "/usr/local/lib/python3.10/dist-packages/keras/src/engine/training.py:3079: UserWarning: You are saving your model as an HDF5 file via `model.save()`. This file format is considered legacy. We recommend using instead the native Keras format, e.g. `model.save('my_model.keras')`.\n",
            "  saving_api.save_model(\n"
          ]
        }
      ]
    },
    {
      "cell_type": "code",
      "source": [
        "# from keras.preprocessing import image\n",
        "\n",
        "# img_path = '/content/images/images/test/wayang_bagong_(7).jpg'\n",
        "# img = image.load_img(img_path, target_size=(300,300))\n",
        "# x = image.img_to_array(img) / .255\n",
        "# x = np.expand_dims(x, axis=0)\n",
        "# images = np.vstack([x])\n",
        "\n",
        "# print(x.shape)\n",
        "\n",
        "# classes = ['semar', 'gareng', 'petruk', 'cepot', 'bagong']\n",
        "\n",
        "# output = model.predict(images)\n",
        "# best_index = np.argmax(output)\n",
        "# print(output)\n",
        "# print(classes[best_index])"
      ],
      "metadata": {
        "id": "jXwrwBqbeajA"
      },
      "execution_count": 28,
      "outputs": []
    },
    {
      "cell_type": "code",
      "source": [
        "# from keras.models import load_model\n",
        "# import cv2\n",
        "# import numpy as np\n",
        "# from keras.preprocessing import image\n",
        "# from google.colab.patches import cv2_imshow\n",
        "# from PIL import Image\n",
        "\n",
        "# classes = ['bagong', 'cepot', 'gareng', 'petruk', 'semar']\n",
        "\n",
        "\n",
        "# image_testing = Image.open('/content/images/images/test/wayang_semar_10 - Copy.jpg')\n",
        "# image_testing = np.array(image_testing.resize((300, 300))) / 255.0\n",
        "# image_testing.shape\n",
        "\n",
        "# image_testing = np.expand_dims(image_testing, axis=0)\n",
        "# print(image_testing.shape)\n",
        "\n",
        "# output = model.predict(image_testing)\n",
        "# best_index = np.argmax(output)\n",
        "# class_name = classes[best_index]\n",
        "\n",
        "# print(output)\n",
        "# print(best_index)\n",
        "# print(class_name)"
      ],
      "metadata": {
        "id": "k-h23gjogcZ0"
      },
      "execution_count": 29,
      "outputs": []
    },
    {
      "cell_type": "code",
      "source": [
        "# from tensorflow.keras.applications import ResNet152V2\n",
        "\n",
        "# model = tf.keras.Sequential([\n",
        "#     ResNet152V2(\n",
        "#         include_top=False,\n",
        "#         weights='imagenet',\n",
        "#         input_shape=(300,300,3)\n",
        "#     ),\n",
        "#     tf.keras.layers.Flatten(),\n",
        "#     tf.keras.layers.Dense(128, activation='relu'),\n",
        "#     tf.keras.layers.Dense(5, activation='softmax')\n",
        "# ])\n",
        "\n",
        "# model.layers[0].trainable=False"
      ],
      "metadata": {
        "id": "EMETjrwlEcZw"
      },
      "execution_count": 30,
      "outputs": []
    },
    {
      "cell_type": "code",
      "source": [
        "# model.compile(optimizer=tf.keras.optimizers.RMSprop(learning_rate=0.0001),\n",
        "#               loss = 'categorical_crossentropy',\n",
        "#               metrics = ['accuracy'])"
      ],
      "metadata": {
        "id": "LFMACZZShkEF"
      },
      "execution_count": 31,
      "outputs": []
    },
    {
      "cell_type": "code",
      "source": [],
      "metadata": {
        "id": "n2F4ScvTiH0B"
      },
      "execution_count": 31,
      "outputs": []
    },
    {
      "cell_type": "code",
      "source": [
        "# history = model.fit(train_generator, epochs=30, validation_data=valid_generator, callbacks=[callback])"
      ],
      "metadata": {
        "id": "cde3UV1dhzGi"
      },
      "execution_count": 32,
      "outputs": []
    },
    {
      "cell_type": "code",
      "source": [
        "# plt.plot(history.history['accuracy'])\n",
        "# plt.plot(history.history['val_accuracy'])\n",
        "# plt.title('model_accuracy')\n",
        "# plt.ylabel('accuracy')\n",
        "# plt.xlabel('ephocs')\n",
        "# plt.legend(['train', 'validation'])\n",
        "# plt.show()\n",
        "\n",
        "# plt.plot(history.history['loss'])\n",
        "# plt.plot(history.history['val_loss'])\n",
        "# plt.title('model_loss')\n",
        "# plt.ylabel('accuracy')\n",
        "# plt.xlabel('ephocs')\n",
        "# plt.legend(['loss', 'val_loss'])\n",
        "# plt.show()"
      ],
      "metadata": {
        "id": "s-okb6iKjQ86"
      },
      "execution_count": 33,
      "outputs": []
    },
    {
      "cell_type": "code",
      "source": [
        "# !mkdir -p saved_model_h5\n",
        "# model.save('saved_model_h5/model_tl.h5')"
      ],
      "metadata": {
        "id": "kE05gxvjknx5"
      },
      "execution_count": 34,
      "outputs": []
    },
    {
      "cell_type": "code",
      "source": [
        "# from keras.preprocessing import image\n",
        "\n",
        "# img_path = '/content/images/test/wayang_semar_2.jpg'\n",
        "# img = image.load_img(img_path, target_size=(150,150))\n",
        "# x = image.img_to_array(img)\n",
        "# x = np.expand_dims(x, axis=0)\n",
        "\n",
        "# classes = ['bagong', 'cepot', 'gareng', 'petruk', 'semar']\n",
        "\n",
        "# output = model.predict(x)\n",
        "# best_index = np.argmax(output)\n",
        "# print(classes[best_index])"
      ],
      "metadata": {
        "id": "iUhFDZcZlJCF"
      },
      "execution_count": 35,
      "outputs": []
    },
    {
      "cell_type": "code",
      "source": [
        "# model = tf.keras.models.Sequential([\n",
        "#     tf.keras.layers.Conv2D(64, (3,3), input_shape=(300,300,3), activation='relu'),\n",
        "#     tf.keras.layers.MaxPooling2D(2,2),\n",
        "#     tf.keras.layers.Conv2D(64, (3,3), activation='relu'),\n",
        "#     tf.keras.layers.MaxPooling2D(2,2),\n",
        "#     tf.keras.layers.Conv2D(128, (3,3), activation='relu'),\n",
        "#     tf.keras.layers.MaxPooling2D(2,2),\n",
        "#     tf.keras.layers.Conv2D(128, (3,3), activation='relu'),\n",
        "#     tf.keras.layers.MaxPooling2D(2,2),\n",
        "#     tf.keras.layers.Flatten(),\n",
        "#     tf.keras.layers.Dense(512, activation='relu'),\n",
        "#     tf.keras.layers.Dense(5, activation='softmax')\n",
        "# ])\n",
        "\n",
        "# model.compile(loss='categorical_crossentropy',\n",
        "#               optimizer='adam',\n",
        "#               metrics=['accuracy'])\n",
        "\n",
        "# model.summary()"
      ],
      "metadata": {
        "id": "iG3EDVVzgwG2"
      },
      "execution_count": 36,
      "outputs": []
    },
    {
      "cell_type": "code",
      "source": [
        "# history = model.fit(train_generator, epochs=20, steps_per_epoch=27, validation_data=valid_generator, validation_steps=3)"
      ],
      "metadata": {
        "id": "K9trkO7zmFx4"
      },
      "execution_count": 37,
      "outputs": []
    },
    {
      "cell_type": "code",
      "source": [
        "# acc = history.history['accuracy']\n",
        "# val_acc = history.history['val_accuracy']\n",
        "\n",
        "\n",
        "# plt.plot(acc)\n",
        "# plt.plot(val_acc)\n",
        "\n",
        "# plt.show()"
      ],
      "metadata": {
        "id": "6ImaW8XBs7bS"
      },
      "execution_count": 38,
      "outputs": []
    },
    {
      "cell_type": "code",
      "source": [
        "# model2 = tf.keras.models.Sequential([\n",
        "#     tf.keras.layers.Conv2D(16, (3,3), activation='relu', input_shape=(300,300,3)),\n",
        "#     tf.keras.layers.BatchNormalization(),\n",
        "#     tf.keras.layers.MaxPooling2D(2,2),\n",
        "#     tf.keras.layers.Conv2D(16, (3,3), activation='relu'),\n",
        "#     tf.keras.layers.BatchNormalization(),\n",
        "#     tf.keras.layers.MaxPooling2D(2,2),\n",
        "#     tf.keras.layers.Conv2D(32, (3,3), activation='relu'),\n",
        "#     tf.keras.layers.BatchNormalization(),\n",
        "#     tf.keras.layers.MaxPooling2D(2,2),\n",
        "#     tf.keras.layers.Conv2D(32, (3,3), activation='relu'),\n",
        "#     tf.keras.layers.BatchNormalization(),\n",
        "#     tf.keras.layers.MaxPooling2D(2,2),\n",
        "#     tf.keras.layers.Conv2D(64, (3,3), activation='relu'),\n",
        "#     tf.keras.layers.BatchNormalization(),\n",
        "#     tf.keras.layers.MaxPooling2D(2,2),\n",
        "#     tf.keras.layers.BatchNormalization(),\n",
        "#     tf.keras.layers.Dropout(0.4),\n",
        "#     tf.keras.layers.Flatten(),\n",
        "#     tf.keras.layers.Dense(512, activation='relu'),\n",
        "#     tf.keras.layers.BatchNormalization(),\n",
        "#     tf.keras.layers.Dense(128, activation='relu'),\n",
        "#     tf.keras.layers.BatchNormalization(),\n",
        "#     tf.keras.layers.Dense(5, activation='softmax')\n",
        "# ])\n",
        "\n",
        "# model2.summary()"
      ],
      "metadata": {
        "id": "6well9ZsyLV8"
      },
      "execution_count": 39,
      "outputs": []
    },
    {
      "cell_type": "code",
      "source": [
        "# model2.compile(loss='categorical_crossentropy',\n",
        "#               optimizer='adam',\n",
        "#               metrics=['accuracy'])"
      ],
      "metadata": {
        "id": "DAYRY9_wzkiV"
      },
      "execution_count": 40,
      "outputs": []
    },
    {
      "cell_type": "code",
      "source": [
        "# history2 = model2.fit(train_generator, epochs=50, steps_per_epoch=27, validation_data=valid_generator, validation_steps=3)"
      ],
      "metadata": {
        "id": "ZgCnj8Y4z0hg"
      },
      "execution_count": 41,
      "outputs": []
    },
    {
      "cell_type": "code",
      "source": [
        "# acc = history2.history['accuracy']\n",
        "# val_acc = history2.history['val_accuracy']\n",
        "\n",
        "\n",
        "# plt.plot(acc)\n",
        "# plt.plot(val_acc)\n",
        "\n",
        "# plt.show()"
      ],
      "metadata": {
        "id": "O8EX0uJO0ZDQ"
      },
      "execution_count": 42,
      "outputs": []
    },
    {
      "cell_type": "code",
      "source": [
        "# train_datagen = ImageDataGenerator(rescale=1./255,\n",
        "#                                    rotation_range=20,\n",
        "#                                    width_shift_range=0.2,\n",
        "#                                    height_shift_range=0.2,\n",
        "#                                    shear_range=0.2,\n",
        "#                                    zoom_range=0.2,\n",
        "#                                    horizontal_flip=True,\n",
        "#                                    vertical_flip=True)\n",
        "\n",
        "# valid_datagen = ImageDataGenerator(rescale=1./255)\n",
        "\n",
        "# train_generator = train_datagen.flow_from_directory(train_dir,\n",
        "#                                                     target_size=(300,300),\n",
        "#                                                     batch_size=32,\n",
        "#                                                     class_mode = 'categorical')\n",
        "\n",
        "# valid_generator = valid_datagen.flow_from_directory(val_dir,\n",
        "#                                                     target_size=(300,300),\n",
        "#                                                     batch_size=32,\n",
        "#                                                     class_mode='categorical')"
      ],
      "metadata": {
        "id": "n0dQHAu70ewy"
      },
      "execution_count": 43,
      "outputs": []
    },
    {
      "cell_type": "code",
      "source": [
        "# history3 = model2.fit(train_generator, epochs=50, validation_data=valid_generator)"
      ],
      "metadata": {
        "id": "5-CM_-wp-fYM"
      },
      "execution_count": 44,
      "outputs": []
    },
    {
      "cell_type": "code",
      "source": [
        "# acc = history3.history['accuracy']\n",
        "# val_acc = history3.history['val_accuracy']\n",
        "\n",
        "\n",
        "# plt.plot(acc)\n",
        "# plt.plot(val_acc)\n",
        "\n",
        "# plt.show()"
      ],
      "metadata": {
        "id": "SCtkTVJl-hZh"
      },
      "execution_count": 45,
      "outputs": []
    },
    {
      "cell_type": "code",
      "source": [
        "# model3 = tf.keras.models.Sequential([\n",
        "#     tf.keras.layers.Conv2D(32, (3,3), activation='relu', input_shape=(300,300,3)),\n",
        "#     tf.keras.layers.BatchNormalization(),\n",
        "#     tf.keras.layers.MaxPooling2D(2,2),\n",
        "#     tf.keras.layers.Conv2D(32, (3,3), activation='relu'),\n",
        "#     tf.keras.layers.BatchNormalization(),\n",
        "#     tf.keras.layers.MaxPooling2D(2,2),\n",
        "#     tf.keras.layers.Conv2D(64, (3,3), activation='relu'),\n",
        "#     tf.keras.layers.BatchNormalization(),\n",
        "#     tf.keras.layers.MaxPooling2D(2,2),\n",
        "#     tf.keras.layers.Conv2D(64, (3,3), activation='relu'),\n",
        "#     tf.keras.layers.BatchNormalization(),\n",
        "#     tf.keras.layers.MaxPooling2D(2,2),\n",
        "#     tf.keras.layers.BatchNormalization(),\n",
        "#     tf.keras.layers.Flatten(),\n",
        "#     tf.keras.layers.Dense(512, activation='relu'),\n",
        "#     tf.keras.layers.BatchNormalization(),\n",
        "#     tf.keras.layers.Dense(5, activation='softmax')\n",
        "# ])"
      ],
      "metadata": {
        "id": "iYZRFZnAgC3i"
      },
      "execution_count": 46,
      "outputs": []
    },
    {
      "cell_type": "code",
      "source": [
        "# !mkdir -p saved_model_h5\n",
        "# model2.save('saved_model_h5/FirstModel.h5')"
      ],
      "metadata": {
        "id": "TEizcAU3Cr4d"
      },
      "execution_count": 47,
      "outputs": []
    },
    {
      "cell_type": "code",
      "source": [
        "# model3.compile(loss='categorical_crossentropy',\n",
        "#                optimizer=tf.keras.optimizers.Adam(learning_rate=0.01),\n",
        "#                metrics=['accuracy'])\n",
        "\n",
        "# history = model3.fit(train_generator, epochs=30, validation_data=valid_generator)"
      ],
      "metadata": {
        "id": "e-mXciMbHSra"
      },
      "execution_count": 48,
      "outputs": []
    },
    {
      "cell_type": "code",
      "source": [
        "# tfjs.converters.save_keras_model(model2, \"/content/\")"
      ],
      "metadata": {
        "id": "h-3p5hoWH5xi"
      },
      "execution_count": 49,
      "outputs": []
    },
    {
      "cell_type": "code",
      "source": [
        "  # from tensorflow.keras.utils import load_img, img_to_array\n",
        "\n",
        "  # img = load_img('/content/images/test/wayang_bagong_(2).jpg', target_size=(300, 300))\n",
        "  # x = img_to_array(img)\n",
        "  # x = np.expand_dims(x, axis=0)\n",
        "\n",
        "  # images = np.vstack([x])\n",
        "  # classes = model2.predict(images)\n",
        "\n",
        "  # print(classes)"
      ],
      "metadata": {
        "id": "-bXJxEhrDN6X"
      },
      "execution_count": 50,
      "outputs": []
    },
    {
      "cell_type": "code",
      "source": [
        "# from keras.models import load_model\n",
        "\n",
        "# loaded_model = load_model('/content/saved_model_h5/FirstModel.h5')"
      ],
      "metadata": {
        "id": "EjORJALxFUEJ"
      },
      "execution_count": 51,
      "outputs": []
    }
  ]
}